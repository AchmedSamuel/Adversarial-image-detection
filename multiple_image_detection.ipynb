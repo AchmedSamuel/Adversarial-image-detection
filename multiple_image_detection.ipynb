{
 "cells": [
  {
   "cell_type": "code",
   "execution_count": 58,
   "id": "3305f738-6d2e-46a8-8d9b-1e652027d592",
   "metadata": {},
   "outputs": [],
   "source": [
    "import numpy as np\n",
    "import tensorflow as tf\n",
    "import csv\n",
    "import pandas as pd\n",
    "import keras\n",
    "import numpy as np\n",
    "from tensorflow.keras.layers import Flatten, Conv2D, Dense, MaxPooling2D\n",
    "from art.attacks.evasion import FastGradientMethod, CarliniLInfMethod\n",
    "from tensorflow.keras.datasets import mnist\n",
    "from art.estimators.classification import KerasClassifier\n",
    "from art.estimators.classification import TensorFlowV2Classifier\n",
    "from tensorflow.keras.datasets import mnist"
   ]
  },
  {
   "cell_type": "code",
   "execution_count": null,
   "id": "d8027617-6d8c-4e77-801e-0f627aa2992e",
   "metadata": {},
   "outputs": [],
   "source": [
    "# Load the MNIST dataset\n",
    "(x_train, y_train), (x_test, y_test) = mnist.load_data()\n",
    "\n",
    "# Preprocess the data\n",
    "x_test = x_test.reshape(-1, 28, 28, 1).astype('float32') / 255.0\n",
    "y_test = tf.keras.utils.to_categorical(y_test, num_classes=10)\n",
    "\n",
    "# Load the pre-trained model\n",
    "model = tf.keras.models.load_model('mnist_CNN_model.h5')"
   ]
  },
  {
   "cell_type": "code",
   "execution_count": 54,
   "id": "5b83623d-f753-40ae-9afd-9cff21988b94",
   "metadata": {},
   "outputs": [
    {
     "name": "stderr",
     "output_type": "stream",
     "text": [
      "C:\\Users\\achme\\anaconda3\\Lib\\site-packages\\keras\\src\\layers\\convolutional\\base_conv.py:107: UserWarning: Do not pass an `input_shape`/`input_dim` argument to a layer. When using Sequential models, prefer using an `Input(shape)` object as the first layer in the model instead.\n",
      "  super().__init__(activity_regularizer=activity_regularizer, **kwargs)\n",
      "C:\\Users\\achme\\anaconda3\\Lib\\site-packages\\keras\\src\\optimizers\\base_optimizer.py:86: UserWarning: Argument `decay` is no longer supported and will be ignored.\n",
      "  warnings.warn(\n",
      "WARNING:absl:Compiled the loaded model, but the compiled metrics have yet to be built. `model.compile_metrics` will be empty until you train or evaluate the model.\n",
      "WARNING:absl:Error in loading the saved optimizer state. As a result, your model is starting with a freshly initialized optimizer.\n"
     ]
    },
    {
     "name": "stdout",
     "output_type": "stream",
     "text": [
      "\u001b[1m313/313\u001b[0m \u001b[32m━━━━━━━━━━━━━━━━━━━━\u001b[0m\u001b[37m\u001b[0m \u001b[1m1s\u001b[0m 3ms/step\n",
      "\u001b[1m313/313\u001b[0m \u001b[32m━━━━━━━━━━━━━━━━━━━━\u001b[0m\u001b[37m\u001b[0m \u001b[1m1s\u001b[0m 3ms/step\n"
     ]
    }
   ],
   "source": [
    "# Define ART classifier\n",
    "classifier = TensorFlowV2Classifier(model=model, nb_classes=10, input_shape=(28, 28, 1), loss_object=tf.keras.losses.CategoricalCrossentropy())\n",
    "\n",
    "# Generate adversarial examples\n",
    "epsilon = 0.1\n",
    "fgsm = FastGradientMethod(classifier, eps=epsilon)\n",
    "x_test_adv_fgsm = fgsm.generate(x_test)\n",
    "\n",
    "# Make predictions\n",
    "preds_true = np.argmax(y_test, axis=1)\n",
    "preds_original = np.argmax(model.predict(x_test), axis=1)\n",
    "preds_adv = np.argmax(model.predict(x_test_adv_fgsm), axis=1)\n",
    "\n",
    "# Save output to CSV\n",
    "output_data = []\n",
    "for i in range(len(x_test)):\n",
    "    output_data.append([i, epsilon, preds_true[i], preds_original[i], preds_adv[i]])\n",
    "\n",
    "# Create DataFrame and save to CSV\n",
    "df = pd.DataFrame(output_data, columns=['Image Index', 'Epsilon', 'Ground Truth', 'Prediction without Adv', 'Prediction with Adv'])\n",
    "df.to_csv('adversarial_output.csv', index=False)\n"
   ]
  },
  {
   "cell_type": "code",
   "execution_count": 56,
   "id": "21e3f28f-f284-43e6-a5f4-85c9fdc9aad3",
   "metadata": {},
   "outputs": [
    {
     "name": "stdout",
     "output_type": "stream",
     "text": [
      "\u001b[1m40/40\u001b[0m \u001b[32m━━━━━━━━━━━━━━━━━━━━\u001b[0m\u001b[37m\u001b[0m \u001b[1m0s\u001b[0m 10ms/step\n",
      "\u001b[1m40/40\u001b[0m \u001b[32m━━━━━━━━━━━━━━━━━━━━\u001b[0m\u001b[37m\u001b[0m \u001b[1m0s\u001b[0m 10ms/step\n",
      "\u001b[1m313/313\u001b[0m \u001b[32m━━━━━━━━━━━━━━━━━━━━\u001b[0m\u001b[37m\u001b[0m \u001b[1m1s\u001b[0m 2ms/step\n",
      "\u001b[1m313/313\u001b[0m \u001b[32m━━━━━━━━━━━━━━━━━━━━\u001b[0m\u001b[37m\u001b[0m \u001b[1m1s\u001b[0m 2ms/step\n"
     ]
    }
   ],
   "source": [
    "# create a data summary log\n",
    "\n",
    "preds_original = np.argmax(model.predict(x_test, batch_size=256), axis=1)  # Original predictions\n",
    "preds_adv = np.argmax(model.predict(x_test_adv_fgsm, batch_size=256), axis=1)  # Adversarial predictions\n",
    "preds_true = np.argmax(y_test, axis=1)  # True labels\n",
    "\n",
    "# Compute Metrics\n",
    "successful_attacks = np.sum(preds_adv != preds_true)\n",
    "success_rate = (successful_attacks / len(x_test)) * 100\n",
    "\n",
    "# Vectorized confidence calculation \n",
    "conf_before = np.mean(np.max(tf.nn.softmax(model.predict(x_test)), axis=1))\n",
    "conf_after = np.mean(np.max(tf.nn.softmax(model.predict(x_test_adv_fgsm)), axis=1))\n",
    "\n",
    "# Save Results \n",
    "summary_data = {\n",
    "    'Epsilon': epsilon,\n",
    "    'Total Successful Attacks': successful_attacks,\n",
    "    'Success Rate (%)': success_rate,\n",
    "    'Average Confidence (Before Attack)': conf_before,\n",
    "    'Average Confidence (After Attack)': conf_after,\n",
    "}\n",
    "pd.DataFrame([summary_data]).to_csv(\"Epsilon_Summary.csv\", index=False)"
   ]
  },
  {
   "cell_type": "code",
   "execution_count": null,
   "id": "0d2d4c19-5807-465d-94bc-36381032dc7a",
   "metadata": {},
   "outputs": [],
   "source": []
  }
 ],
 "metadata": {
  "kernelspec": {
   "display_name": "Python 3 (ipykernel)",
   "language": "python",
   "name": "python3"
  },
  "language_info": {
   "codemirror_mode": {
    "name": "ipython",
    "version": 3
   },
   "file_extension": ".py",
   "mimetype": "text/x-python",
   "name": "python",
   "nbconvert_exporter": "python",
   "pygments_lexer": "ipython3",
   "version": "3.12.7"
  }
 },
 "nbformat": 4,
 "nbformat_minor": 5
}
