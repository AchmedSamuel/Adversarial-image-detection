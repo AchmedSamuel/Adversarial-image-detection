{
 "cells": [
  {
   "cell_type": "code",
   "execution_count": 17,
   "id": "866557bc",
   "metadata": {
    "id": "866557bc"
   },
   "outputs": [],
   "source": [
    "import warnings\n",
    "import tensorflow as tf\n",
    "from datetime import datetime\n",
    "from tensorflow.keras.models import Sequential\n",
    "from tensorflow.keras.layers import Dense, Flatten, Conv2D, MaxPooling2D\n",
    "from tensorflow.keras.losses import categorical_crossentropy\n",
    "from tensorflow.keras.optimizers.legacy import Adam\n",
    "import numpy as np\n",
    "from art.estimators.classification import KerasClassifier\n",
    "from tensorflow.keras import datasets\n",
    "from art.utils import load_mnist\n",
    "warnings.filterwarnings('ignore')\n",
    "#tf.compat.v1.disable_eager_execution()"
   ]
  },
  {
   "cell_type": "code",
   "execution_count": 11,
   "id": "80ca73a3-3a5c-480a-aa3f-4d8919dd28c8",
   "metadata": {},
   "outputs": [],
   "source": [
    "# Load MNIST dataset\n",
    "(x_train, y_train), (x_test, y_test), min_pixel_value, max_pixel_value = load_mnist()"
   ]
  },
  {
   "cell_type": "code",
   "execution_count": 13,
   "id": "ce8e3762",
   "metadata": {
    "id": "ce8e3762"
   },
   "outputs": [],
   "source": [
    "#Build CNN model\n",
    "model = Sequential()\n",
    "model.add(Conv2D(filters=32, kernel_size=(3, 3), padding=\"same\", activation=\"relu\", input_shape=(28, 28, 1)))\n",
    "model.add(MaxPooling2D(pool_size=(2, 2)))\n",
    "model.add(Conv2D(filters=32, kernel_size=(3, 3), padding=\"same\", activation=\"relu\"))\n",
    "model.add(MaxPooling2D(pool_size=(2, 2)))\n",
    "\n",
    "model.add(Conv2D(filters=64, kernel_size=(3, 3), padding=\"same\", activation=\"relu\"))\n",
    "model.add(MaxPooling2D(pool_size=(2, 2)))\n",
    "model.add(Conv2D(filters=64, kernel_size=(3, 3), padding=\"same\", activation=\"relu\"))\n",
    "model.add(MaxPooling2D(pool_size=(2, 2)))\n",
    "\n",
    "model.add(Flatten())\n",
    "model.add(Dense(100, activation=\"relu\"))\n",
    "model.add(Dense(10, activation=\"softmax\"))"
   ]
  },
  {
   "cell_type": "code",
   "execution_count": null,
   "id": "5b05e77c",
   "metadata": {
    "id": "5b05e77c"
   },
   "outputs": [],
   "source": [
    "# Compile the CNN model \n",
    "model.compile(optimizer='adam', loss='sparse_categorical_crossentropy',metrics=['accuracy'])\n",
    "classifier = KerasClassifier(model=model, clip_values=(min_pixel_value, max_pixel_value), use_logits=False)\n",
    "\n",
    "Start_time = datetime.now()\n",
    "classifier.fit(x_train, y_train, batch_size=64, nb_epochs=50)\n",
    "End_time = datetime.now()\n",
    "print('Time taken to train the model: {}'.format(End_time - Start_time))\n",
    "\n",
    "model.save(\"mnist_cnn_model.h5\")"
   ]
  },
  {
   "cell_type": "code",
   "execution_count": null,
   "id": "0e44f808",
   "metadata": {
    "colab": {
     "base_uri": "https://localhost:8080/"
    },
    "id": "0e44f808",
    "outputId": "6e0d4d13-f67f-495a-f980-6e598f399f07"
   },
   "outputs": [],
   "source": [
    "predictions = classifier.predict(x_test)\n",
    "prediction_image = classifier.predict(x_test)\n",
    "accuracy = np.sum(np.argmax(prediction_image, axis=1) == np.argmax(y_test, axis=1)) / len(y_test)\n",
    "print(\"Accuracy on benign test examples: {}%\".format(accuracy * 100))\n"
   ]
  },
  {
   "cell_type": "code",
   "execution_count": null,
   "id": "83609847-45bb-4ad8-a885-5b9bdf37001e",
   "metadata": {},
   "outputs": [],
   "source": []
  }
 ],
 "metadata": {
  "colab": {
   "provenance": []
  },
  "kernelspec": {
   "display_name": "Python 3 (ipykernel)",
   "language": "python",
   "name": "python3"
  },
  "language_info": {
   "codemirror_mode": {
    "name": "ipython",
    "version": 3
   },
   "file_extension": ".py",
   "mimetype": "text/x-python",
   "name": "python",
   "nbconvert_exporter": "python",
   "pygments_lexer": "ipython3",
   "version": "3.12.7"
  }
 },
 "nbformat": 4,
 "nbformat_minor": 5
}
