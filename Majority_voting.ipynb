{
 "cells": [
  {
   "cell_type": "markdown",
   "id": "645e0fca-09da-405a-864f-216cd1d57602",
   "metadata": {},
   "source": [
    "## **Majority voting of the same sequence of sample overtime**"
   ]
  },
  {
   "cell_type": "code",
   "execution_count": null,
   "id": "2dbca9b6-ac74-4776-9d27-6a4f5c226637",
   "metadata": {},
   "outputs": [],
   "source": [
    "import pandas as pd\n",
    "import numpy as np\n",
    "from sklearn.metrics import confusion_matrix, accuracy_score\n",
    "from sklearn.model_selection import train_test_split\n",
    "from sklearn.tree import DecisionTreeClassifier\n",
    "from sklearn.preprocessing import StandardScaler\n",
    "from collections import Counter\n",
    "import joblib"
   ]
  },
  {
   "cell_type": "code",
   "execution_count": null,
   "id": "8a5e6597-0984-4f14-9d0c-ab28680d9994",
   "metadata": {},
   "outputs": [],
   "source": [
    "data = pd.read_csv(\"Umap_data_2D.csv\")\n",
    "\n",
    "# features and labels \n",
    "X = data.drop(columns=[\"attack\"])\n",
    "y = data[\"attack\"]\n",
    "\n",
    "# Split into train and test sets\n",
    "X_train, X_test, y_train, y_test = train_test_split(X, y, test_size=0.2, random_state=42)\n",
    "\n",
    "# standardize the dataset using z-score transformation\n",
    "scaler = StandardScaler(copy=False)\n",
    "X_train = scaler.fit_transform(X_train)\n",
    "X_test = scaler.transform(X_test)"
   ]
  },
  {
   "cell_type": "code",
   "execution_count": null,
   "id": "e61d468e-62dc-4ab0-88a5-c275cea95d15",
   "metadata": {},
   "outputs": [],
   "source": [
    "clf = DecisionTreeClassifier(min_samples_split=2, min_samples_leaf=6, max_depth=4, random_state=42)\n",
    "df_clf = clf.fit(X_train, y_train)\n",
    "\n",
    "# Make predictions on the test set\n",
    "dt_predictions = df_clf.predict(X_test)\n",
    "\n",
    "# Evaluate the classifier\n",
    "accuracy = accuracy_score(y_test, dt_predictions)\n",
    "print(f\"Accuracy: {accuracy:.2f}\")\n",
    "\n",
    "# Save the trained classifier to a file\n",
    "model_filename = 'Umap_data_classifier.joblib'\n",
    "joblib.dump(df_clf, model_filename)\n",
    "print(f\"DT Trained model saved to {model_filename}\")"
   ]
  },
  {
   "cell_type": "code",
   "execution_count": null,
   "id": "ef668257-c17b-4f86-a137-57612b44cbb8",
   "metadata": {},
   "outputs": [],
   "source": [
    "# Split the dataset based on the attack labels\n",
    "dt_attack_0 = y_test[y_test == 0]\n",
    "dt_attack_1 = y_test[y_test == 1]\n",
    "\n",
    "print(\"length of y_test attack_0: \", len(dt_attack_0))\n",
    "print(\"length of y_test attack_1: \", len(dt_attack_1))\n",
    "print(\"length of y_test: \", len(y_test))"
   ]
  },
  {
   "cell_type": "code",
   "execution_count": null,
   "id": "402ff299-7ed4-4a2c-b7e5-99a89cb0ab7a",
   "metadata": {},
   "outputs": [],
   "source": [
    "dt_X_test_label_0 = X_test[y_test == 0]\n",
    "dt_X_test_label_1 = X_test[y_test == 1] "
   ]
  },
  {
   "cell_type": "code",
   "execution_count": null,
   "id": "d25b514b-de18-44ff-a5c7-6c66695e5bbc",
   "metadata": {},
   "outputs": [],
   "source": [
    "# load the trained classifier\n",
    "clf1 = joblib.load(\"Umap_data_classifier.joblib\")\n",
    "\n",
    "# Perform predictions on each part\n",
    "dt_y_pred_attack_0 = df_clf.predict(dt_X_test_label_0)\n",
    "dt_y_pred_attack_1 = df_clf.predict(dt_X_test_label_1)\n",
    "\n",
    "print(\"\\ndt Predicted label for attack 0: \", dt_y_pred_attack_0)\n",
    "print(\"dt Length of Predicted label for attack 0: \", len(dt_y_pred_attack_0))\n",
    "print(\"dt Predicted label for attack 1: \", dt_y_pred_attack_1)"
   ]
  },
  {
   "cell_type": "markdown",
   "id": "3f792bf6-6d77-498c-b547-f7d3fdf10e52",
   "metadata": {},
   "source": [
    "## **Legitimate (attack) = 0**"
   ]
  },
  {
   "cell_type": "code",
   "execution_count": null,
   "id": "63d0fdb7-3bb7-44b6-a445-ab787863ad9d",
   "metadata": {},
   "outputs": [],
   "source": [
    "# Define window size and step size\n",
    "window_size0 = 3\n",
    "step_size0 = 1\n",
    "\n",
    "# Initialize lists to store true labels and predicted labels\n",
    "true_labels_all0 = []\n",
    "predicted_labels_all0 = []\n",
    "\n",
    "# Split the test set into sequences with a sliding window\n",
    "for i in range(0, len(dt_X_test_label_0) - window_size0 + 1, step_size0):\n",
    "    # Extract a window of samples and corresponding true labels\n",
    "    window_samples0 = dt_X_test_label_0[i:i+window_size0]\n",
    "    window_true_labels0 = dt_attack_0[i:i+window_size0]\n",
    "\n",
    "    # Predict labels for each sample in the window\n",
    "    predicted_labels0 = df_clf.predict(window_samples0)\n",
    "\n",
    "    # Apply majority voting to decide the final label for the window\n",
    "    majority_voted_label0 = np.bincount(predicted_labels0).argmax()\n",
    "    print(\"window samples: \", window_samples0)\n",
    "    print(\"window true labels: \\n\", window_true_labels0)\n",
    "    print(\"predicted labels: \", predicted_labels0)\n",
    "    print(\"majority_voted_label: \", majority_voted_label0)\n",
    "    print()\n",
    "\n",
    "    # Append true label and majority voted label to the lists\n",
    "    true_labels_all0.append(window_true_labels0.values[0])\n",
    "    predicted_labels_all0.append(majority_voted_label0)\n",
    "\n",
    "# Create confusion matrix\n",
    "conf_matrix = confusion_matrix(true_labels_all0, predicted_labels_all0)\n",
    "\n",
    "print(\"Confusion Matrix:\")\n",
    "print(conf_matrix)"
   ]
  },
  {
   "cell_type": "code",
   "execution_count": null,
   "id": "536ebdc5-7e20-4133-90d4-a9e4661746dd",
   "metadata": {},
   "outputs": [],
   "source": [
    "# For attack_0\n",
    "TN, FP, FN, TP = confusion_matrix(true_labels_all0, predicted_labels_all0).ravel()\n",
    "\n",
    "# Calculate False Positive Rate (FPR)\n",
    "FPR = FP / (FP + TN)\n",
    "\n",
    "# Calculate True Negative Rate (TNR)\n",
    "TNR = TN / (TN + FP)\n",
    "\n",
    "# Calculate Accuracy (ACC)\n",
    "ACC = (TP + TN) / (TP + TN + FP + FN)\n",
    "\n",
    "print(\"RESULT FOR ATTACK_LABEL_0:\\n\")\n",
    "print(\"True Negative Rate (TNR):\", TNR)\n",
    "print(\"False Positive Rate (FPR):\", FPR)\n",
    "print(\"Accuracy (ACC):\", ACC)\n",
    "print(\"F1-score:\", F1_score)"
   ]
  },
  {
   "cell_type": "markdown",
   "id": "53cf267c-1e7f-4a61-9965-c63b5153382b",
   "metadata": {},
   "source": [
    "## **Adversarial (attack) = 1**"
   ]
  },
  {
   "cell_type": "code",
   "execution_count": null,
   "id": "735cbaa4-0033-464a-9571-2f49759731c3",
   "metadata": {},
   "outputs": [],
   "source": [
    "# Define window size and step size\n",
    "window_size = 3\n",
    "step_size = 1\n",
    "\n",
    "# Initialize lists to store true labels and predicted labels\n",
    "true_labels_all1 = []\n",
    "predicted_labels_all1 = []\n",
    "\n",
    "# Split the test set into sequences with a sliding window\n",
    "for i in range(0, len(dt_X_test_label_1) - window_size + 1, step_size):\n",
    "    # Extract a window of samples and corresponding true labels\n",
    "    window_samples1 = dt_X_test_label_1[i:i+window_size]\n",
    "    window_true_labels1 = dt_attack_1[i:i+window_size]\n",
    "\n",
    "    # Predict labels for each sample in the window\n",
    "    predicted_labels1 = df_clf.predict(window_samples1)\n",
    "\n",
    "    # Apply majority voting to decide the final label for the window\n",
    "    majority_voted_label1 = np.bincount(predicted_labels1).argmax()\n",
    "    print(\"window samples: \", window_samples1)\n",
    "    print(\"window true labels: \\n\", window_true_labels1)\n",
    "    print(\"predicted labels: \", predicted_labels1)\n",
    "    print(\"majority_voted_label: \", majority_voted_label1)\n",
    "    print()\n",
    "\n",
    "    # Append true label and majority voted label to the lists\n",
    "    true_labels_all1.append(window_true_labels1.values[0]) \n",
    "    predicted_labels_all1.append(majority_voted_label1)\n",
    "\n",
    "# Create confusion matrix\n",
    "conf_matrix1 = confusion_matrix(true_labels_all1, predicted_labels_all1)\n",
    "\n",
    "print(\"Confusion Matrix:\")\n",
    "print(conf_matrix1)"
   ]
  },
  {
   "cell_type": "code",
   "execution_count": null,
   "id": "f25a8bde-fd14-44d5-858c-bf1c90557c37",
   "metadata": {},
   "outputs": [],
   "source": [
    "# For attack_1\n",
    "TN, FP, FN, TP = confusion_matrix(true_labels_all1, predicted_labels_all1).ravel()\n",
    "\n",
    "# Calculate True Positive Rate (TPR) or Recall\n",
    "TPR = TP / (TP + FN)\n",
    "\n",
    "# Calculate False Negative Rate (FNR)\n",
    "FNR = FN / (FN + TP)\n",
    "\n",
    "# Calculate Accuracy (ACC)\n",
    "ACC = (TP + TN) / (TP + TN + FP + FN)\n",
    "\n",
    "print(\"RESULT FOR ATTACK_LABEL_1: \\n\")\n",
    "print(\"True Positive Rate (TPR):\", TPR)\n",
    "print(\"False Negative Rate (FNR):\", FNR)\n",
    "print(\"Accuracy (ACC):\", ACC)"
   ]
  }
 ],
 "metadata": {
  "kernelspec": {
   "display_name": "Python 3 (ipykernel)",
   "language": "python",
   "name": "python3"
  },
  "language_info": {
   "codemirror_mode": {
    "name": "ipython",
    "version": 3
   },
   "file_extension": ".py",
   "mimetype": "text/x-python",
   "name": "python",
   "nbconvert_exporter": "python",
   "pygments_lexer": "ipython3",
   "version": "3.12.7"
  }
 },
 "nbformat": 4,
 "nbformat_minor": 5
}
