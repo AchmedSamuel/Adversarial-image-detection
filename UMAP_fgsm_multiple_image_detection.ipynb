{
 "cells": [
  {
   "cell_type": "code",
   "execution_count": null,
   "metadata": {
    "id": "xE_3gLpWyLKu"
   },
   "outputs": [],
   "source": [
    "!pip install umap-learn\n",
    "!pip install adversarial-robustness-toolbox\n"
   ]
  },
  {
   "cell_type": "code",
   "execution_count": 4,
   "metadata": {
    "id": "Kx8Lns-Vv6Po"
   },
   "outputs": [],
   "source": [
    "import pandas as pd\n",
    "import numpy as np\n",
    "import umap\n",
    "from umap import UMAP\n",
    "import tensorflow as tf\n",
    "import keras\n",
    "from art.attacks.evasion import FastGradientMethod, CarliniLInfMethod\n",
    "from tensorflow.keras.datasets import mnist, cifar10\n",
    "from art.estimators.classification import KerasClassifier\n",
    "from art.estimators.classification import TensorFlowV2Classifier\n",
    "tf.compat.v1.disable_eager_execution()"
   ]
  },
  {
   "cell_type": "code",
   "execution_count": 1,
   "metadata": {},
   "outputs": [],
   "source": [
    "# Load and preprocess data\n",
    "(x_train, y_train), (x_test, y_test) = tf.keras.datasets.mnist.load_data()\n",
    "x_test = x_test.reshape(-1, 28, 28, 1).astype('float32') / 255.0\n",
    "y_test_cat = tf.keras.utils.to_categorical(y_test, num_classes=10)\n"
   ]
  },
  {
   "cell_type": "code",
   "execution_count": null,
   "metadata": {},
   "outputs": [],
   "source": [
    "# Load model and create ART classifier\n",
    "model = tf.keras.models.load_model('mnist_CNN_model.h5')\n",
    "classifier = TensorFlowV2Classifier(\n",
    "    model=model,\n",
    "    nb_classes=10,\n",
    "    input_shape=(28, 28, 1),\n",
    "    loss_object=tf.keras.losses.CategoricalCrossentropy()\n",
    ")\n",
    "\n",
    "# Generate adversarial examples\n",
    "epsilon = 0.1\n",
    "fgsm = FastGradientMethod(classifier, eps=epsilon)\n",
    "x_test_adv_fgsm = fgsm.generate(x_test)\n"
   ]
  },
  {
   "cell_type": "code",
   "execution_count": null,
   "metadata": {},
   "outputs": [],
   "source": [
    "# Get predictions\n",
    "preds_true = y_test  # True labels (already 0-9)\n",
    "preds_original = np.argmax(model.predict(x_test), axis=1)\n",
    "preds_adv = np.argmax(model.predict(x_test_adv_fgsm), axis=1)\n",
    "\n",
    "# Create 5D UMAP embeddings\n",
    "reducer = umap.UMAP(n_neighbors=15, n_components=2, min_dist=0.1, random_state=42)\n",
    "UMAP_2d = reducer.fit_transform(x_test.reshape(len(x_test), -1))\n",
    "adv_UMAP_2d = reducer.fit_transform(x_test_adv_fgsm.reshape(len(x_test_adv_fgsm), -1))"
   ]
  },
  {
   "cell_type": "code",
   "execution_count": null,
   "metadata": {},
   "outputs": [],
   "source": [
    "# Create DataFrames for features\n",
    "legitimate_df = pd.DataFrame(\n",
    "    UMAP_2d,\n",
    "    columns=[f\"UMAP_{i}\" for i in range(2)]\n",
    ")\n",
    "\n",
    "attack_df = pd.DataFrame(\n",
    "    adv_UMAP_2d,\n",
    "    columns=[f\"Adv_UMAP_{i}\" for i in range(2)]\n",
    ")\n",
    "\n",
    "# Create DataFrame for labels and results\n",
    "results_df = pd.DataFrame({\n",
    "    'Legit_Label': preds_true,\n",
    "    'Predicted_Label': preds_original,\n",
    "    'Attacked_Label': preds_adv,\n",
    "    'Attack_Success': (preds_original != preds_adv).astype(int)\n",
    "})\n",
    "\n",
    "# Combine all DataFrames\n",
    "output_df = pd.concat([legitimate_df, attack_df, results_df], axis=1)\n",
    "\n",
    "# Ensure column order matches your example\n",
    "column_order = [\n",
    "    *[f\"UMAP_{i}\" for i in range(2)],\n",
    "    'Legit_Label',\n",
    "    *[f\"Adv_UMAP_{i}\" for i in range(2)],\n",
    "    'Predicted_Label', \n",
    "    'Attacked_Label',\n",
    "    'Attack_Success'\n",
    "]\n",
    "output_df = output_df[column_order]\n",
    "\n",
    "# Save and display results\n",
    "output_df.to_csv('adversarial_analysis_results.csv', index=False)\n",
    "print(output_df.head())"
   ]
  },
  {
   "cell_type": "code",
   "execution_count": null,
   "metadata": {},
   "outputs": [],
   "source": []
  }
 ],
 "metadata": {
  "colab": {
   "provenance": []
  },
  "kernelspec": {
   "display_name": "Python 3 (ipykernel)",
   "language": "python",
   "name": "python3"
  },
  "language_info": {
   "codemirror_mode": {
    "name": "ipython",
    "version": 3
   },
   "file_extension": ".py",
   "mimetype": "text/x-python",
   "name": "python",
   "nbconvert_exporter": "python",
   "pygments_lexer": "ipython3",
   "version": "3.12.7"
  }
 },
 "nbformat": 4,
 "nbformat_minor": 4
}
