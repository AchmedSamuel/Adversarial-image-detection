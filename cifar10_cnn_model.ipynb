{
 "cells": [
  {
   "cell_type": "code",
   "execution_count": null,
   "metadata": {},
   "outputs": [],
   "source": [
    "import tensorflow as tf\n",
    "import numpy as np\n",
    "\n",
    "from keras.utils import plot_model\n",
    "from datetime import datetime\n",
    "from tensorflow.keras import Sequential, datasets\n",
    "from tensorflow.keras.layers import Conv2D, Dropout, MaxPooling2D, Dense, Activation, Flatten\n",
    "from tensorflow.keras.utils import to_categorical\n",
    "from tensorflow.keras.losses import CategoricalCrossentropy\n",
    "from tensorflow.keras.optimizers import Adam"
   ]
  },
  {
   "cell_type": "code",
   "execution_count": null,
   "metadata": {
    "id": "H7iF34ofQTFa"
   },
   "outputs": [],
   "source": [
    "# Load the Cifar10 dataset\n",
    "(x_train, y_train), (x_test, y_test) =datasets.cifar10.load_data()\n",
    "\n",
    "# Preprocess dataset\n",
    "x_train = x_train.reshape(-1, 32, 32, 3).astype(\"float32\")/255.0\n",
    "x_test = x_test.reshape(-1, 32, 32, 3).astype(\"float32\")/255.0\n",
    "\n",
    "y_train = to_categorical(y_train, num_classes=10)\n",
    "y_test = to_categorical(y_test, num_classes=10)"
   ]
  },
  {
   "cell_type": "code",
   "execution_count": null,
   "metadata": {
    "id": "n5YswsCJRHLC"
   },
   "outputs": [],
   "source": [
    "#Build CNN model\n",
    "model = Sequential()\n",
    "model.add(Conv2D(filters=64, kernel_size=(3,3), activation=\"relu\", input_shape=(32,32,3)))\n",
    "model.add(MaxPooling2D(2,2))\n",
    "model.add(Conv2D(filters=128, kernel_size=(3,3), activation=\"relu\"))\n",
    "model.add(MaxPooling2D(2,2))\n",
    "model.add(Conv2D(filters=256, kernel_size=(3,3), activation=\"relu\"))\n",
    "model.add(MaxPooling2D(2,2))\n",
    "model.add(Flatten())\n",
    "model.add(Dense(512, activation=\"relu\"))\n",
    "model.add(Dropout(0.5))\n",
    "model.add(Dense(256, activation=\"relu\"))\n",
    "model.add(Dropout(0.5))\n",
    "model.add(Dense(10, activation=\"softmax\"))"
   ]
  },
  {
   "cell_type": "code",
   "execution_count": null,
   "metadata": {
    "id": "gqfTnC6gRXbY"
   },
   "outputs": [],
   "source": [
    "# Compile CNN model \n",
    "model.compile(optimizer =Adam(learning_rate=0.001),\n",
    "             loss = CategoricalCrossentropy(),\n",
    "             metrics = [\"accuracy\"])"
   ]
  },
  {
   "cell_type": "code",
   "execution_count": null,
   "metadata": {
    "colab": {
     "base_uri": "https://localhost:8080/"
    },
    "id": "G4Dw-hwORg6S",
    "outputId": "a32ee660-3b28-4a5b-8234-1df416f93bbb"
   },
   "outputs": [],
   "source": [
    "# Train the CNN model and record the time taken\n",
    "model.fit(x_train, y_train, batch_size=512, epochs=50, validation_split=0.1)\n",
    "End_time_1 = datetime.now()\n",
    "print('Time taken to train the model: {}'.format(End_time_1 - Start_time_1))\n",
    "\n",
    "# save the trained CNN model\n",
    "model.save(\"cifar10_CNN_model.h5\")"
   ]
  },
  {
   "cell_type": "code",
   "execution_count": null,
   "metadata": {
    "colab": {
     "base_uri": "https://localhost:8080/"
    },
    "id": "wfW4NLYlRtmY",
    "outputId": "555f5a98-181c-41a6-ab06-50d20450cf41"
   },
   "outputs": [],
   "source": [
    "test_acc = model.evaluate(x_test, y_test)\n",
    "\n",
    "print(\"Loss accuracy, Test accuracy: \\n\", test_acc)"
   ]
  },
  {
   "cell_type": "code",
   "execution_count": null,
   "metadata": {
    "colab": {
     "base_uri": "https://localhost:8080/"
    },
    "id": "6M5rriBqSTZx",
    "outputId": "8eac73d4-9c2c-4f1b-d972-b66da432eb45"
   },
   "outputs": [],
   "source": [
    "model.save(\"cifar10_CNN_model.h5\")"
   ]
  },
  {
   "cell_type": "code",
   "execution_count": null,
   "metadata": {},
   "outputs": [],
   "source": []
  }
 ],
 "metadata": {
  "accelerator": "GPU",
  "colab": {
   "gpuType": "T4",
   "provenance": []
  },
  "kernelspec": {
   "display_name": "Python 3 (ipykernel)",
   "language": "python",
   "name": "python3"
  },
  "language_info": {
   "codemirror_mode": {
    "name": "ipython",
    "version": 3
   },
   "file_extension": ".py",
   "mimetype": "text/x-python",
   "name": "python",
   "nbconvert_exporter": "python",
   "pygments_lexer": "ipython3",
   "version": "3.12.7"
  }
 },
 "nbformat": 4,
 "nbformat_minor": 4
}
